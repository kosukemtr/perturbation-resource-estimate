{
 "cells": [
  {
   "attachments": {},
   "cell_type": "markdown",
   "metadata": {},
   "source": [
    "# $(\\mathrm{H}_2\\mathrm{O})_6$ cost estimate"
   ]
  },
  {
   "cell_type": "code",
   "execution_count": 1,
   "metadata": {},
   "outputs": [
    {
     "name": "stderr",
     "output_type": "stream",
     "text": [
      "/home/mitarai/anaconda/envs/qulacs/lib/python3.9/site-packages/pyscf/lib/misc.py:46: H5pyDeprecationWarning: Using default_file_mode other than 'r' is deprecated. Pass the mode to h5py.File() instead.\n",
      "  h5py.get_config().default_file_mode = 'a'\n"
     ]
    }
   ],
   "source": [
    "import numpy as np\n",
    "import openfermion\n",
    "import pyscf\n",
    "from pyscf import gto"
   ]
  },
  {
   "cell_type": "code",
   "execution_count": 2,
   "metadata": {},
   "outputs": [],
   "source": [
    "xyz_file = \"TIP4P-6.xyz\""
   ]
  },
  {
   "cell_type": "markdown",
   "metadata": {},
   "source": [
    "Get energy gap of a single molecule"
   ]
  },
  {
   "cell_type": "code",
   "execution_count": 3,
   "metadata": {},
   "outputs": [
    {
     "name": "stdout",
     "output_type": "stream",
     "text": [
      "converged SCF energy = -74.962928260405\n"
     ]
    }
   ],
   "source": [
    "\n",
    "atom = [('O', [-0.3511375701099324, -2.220327851906733, 1.4480207843187745]), ('H', [-0.24292674995680064, -1.697798925312798, 3.1763661875721043]), ('H', [-0.11012983703262759, -0.699680546250837, 0.4985624750191387]),]\n",
    "basis = 'sto3g'\n",
    "mol = gto.M(atom=atom,\n",
    "            basis=basis,\n",
    "            unit=\"Bohr\")\n",
    "rhf = mol.RHF.run()\n",
    "cisolver = pyscf.fci.FCI(rhf)\n",
    "cisolver.nroots = 5\n",
    "e0, e1, e2, e3, e4 = cisolver.kernel()[0]\n",
    "Delta = e1-e0\n",
    "p = cisolver.ci[0][0,0]**2"
   ]
  },
  {
   "attachments": {},
   "cell_type": "markdown",
   "metadata": {},
   "source": [
    "Get the Hamiltonian"
   ]
  },
  {
   "cell_type": "code",
   "execution_count": 4,
   "metadata": {},
   "outputs": [
    {
     "name": "stdout",
     "output_type": "stream",
     "text": [
      "converged SCF energy = -449.856772094009\n",
      "converged SCF energy = -449.856772094008\n",
      "converged SCF energy = -449.856772094009\n"
     ]
    }
   ],
   "source": [
    "from local_hamiltonian import get_localized_hamiltonian, get_localized_integrals\n",
    "basis = 'sto3g'\n",
    "method = 'lowdin'\n",
    "mol = gto.M(atom=\"TIP4P-6.xyz\",\n",
    "            basis=basis)\n",
    "rhf = mol.RHF.run()\n",
    "e_rhf = rhf.e_tot\n",
    "of_hamiltonian = get_localized_hamiltonian(mol, method)\n",
    "constant, one_body_int, two_body_int = get_localized_integrals(mol, method)\n",
    "# of_hamiltonian.constant = 0  # constant term value"
   ]
  },
  {
   "attachments": {},
   "cell_type": "markdown",
   "metadata": {},
   "source": [
    "Split the Hamiltonian"
   ]
  },
  {
   "cell_type": "code",
   "execution_count": 5,
   "metadata": {},
   "outputs": [],
   "source": [
    "groups = [list(range(14*i, 14*i+14)) for i in range(6)]\n",
    "original_qubit_hamiltonian = openfermion.transforms.jordan_wigner(of_hamiltonian)\n",
    "constant_in_original_qubit_hamiltonian = original_qubit_hamiltonian.terms[()]\n",
    "original_qubit_hamiltonian -= constant_in_original_qubit_hamiltonian\n",
    "# Note that original_qubit_hamiltonian should not have constant hereafter. "
   ]
  },
  {
   "cell_type": "code",
   "execution_count": 6,
   "metadata": {},
   "outputs": [],
   "source": [
    "from utils import local_group_qubit_operator, get_coulomb_like_interaction_group\n",
    "hamiltonian_list = []\n",
    "for i in range(6):\n",
    "    hamiltonian_list.append(local_group_qubit_operator(original_qubit_hamiltonian, groups[i]))\n",
    "for i in range(6):\n",
    "    hamiltonian_interaction = original_qubit_hamiltonian - hamiltonian_list[i]"
   ]
  },
  {
   "attachments": {},
   "cell_type": "markdown",
   "metadata": {},
   "source": [
    "Get the pauli coefficients"
   ]
  },
  {
   "cell_type": "code",
   "execution_count": 7,
   "metadata": {},
   "outputs": [],
   "source": [
    "def coef2array(h):\n",
    "    _array = np.array([h.terms[key] for key in h.terms])\n",
    "    return _array[np.where(np.abs(_array)>1e-11)]\n",
    "original_coef = coef2array(original_qubit_hamiltonian)\n",
    "grouped_coef_list = []\n",
    "for i in range(6):\n",
    "    grouped_coef_list.append(coef2array(hamiltonian_list[i]))\n",
    "interaction_coef = coef2array(hamiltonian_interaction)"
   ]
  },
  {
   "attachments": {},
   "cell_type": "markdown",
   "metadata": {},
   "source": [
    "Calculate norms"
   ]
  },
  {
   "cell_type": "code",
   "execution_count": 8,
   "metadata": {},
   "outputs": [
    {
     "name": "stdout",
     "output_type": "stream",
     "text": [
      "715.7711319290972\n",
      "610.3147600518222\n",
      "70281.74518678922\n",
      "223.84920634920636\n"
     ]
    }
   ],
   "source": [
    "h1norm = abs(e_rhf-constant_in_original_qubit_hamiltonian)\n",
    "for i in range(6):\n",
    "    h1norm += np.sum(np.abs(grouped_coef_list[i]))\n",
    "v1norm = np.sum(np.abs(interaction_coef))\n",
    "v23norm = np.sum(np.abs(interaction_coef)**(2/3))**(3/2)\n",
    "lvlh = len(interaction_coef)/(sum([len(grouped_coef_list[i]) for i in range(6)]))\n",
    "print(h1norm)\n",
    "print(v1norm)\n",
    "print(v23norm)\n",
    "print(lvlh)"
   ]
  },
  {
   "attachments": {},
   "cell_type": "markdown",
   "metadata": {},
   "source": [
    "# Generate values in the paper"
   ]
  },
  {
   "cell_type": "code",
   "execution_count": 9,
   "metadata": {},
   "outputs": [
    {
     "name": "stdout",
     "output_type": "stream",
     "text": [
      "epsilon:  2.4885699817798904e-08\n",
      "n_filter:  (351282.31419988244+0j)\n",
      "kappa:  0.0005562915466404593\n",
      "M1:  1068543.261988356\n",
      "r:  4.096246991941868e-09\n",
      "x_th: 4.1912838701871164e-07\n",
      "(91327677775044.27+0j)\n",
      "r:  2.6744592805578082e-12\n",
      "epsilon_filter:  1.6247992604405086e-11\n",
      "epsilon_ptb:  5.764845692084068e-08\n",
      "kappa:  0.0005562915466404593\n",
      "w:  0.0005562915466404593\n",
      "w0:  4.1912838701871164e-07\n",
      "M2:  1257380581249660.5\n",
      "n_filter:  (493027.6391437042+0j)\n",
      "n_ptb:  (2291113.3277967963+0j)\n",
      "(2.090052699786265e+23+0j)\n"
     ]
    }
   ],
   "source": [
    "from cost_estimate import get_cost_for_first_order_pert, get_cost_for_second_order_pert\n",
    "delta0 = 0.3e-3\n",
    "delta1 = 0.3e-3\n",
    "delta2 = 0.3e-3\n",
    "r_scale = 1/6\n",
    "epsilon_scale = 1/6\n",
    "n_subsystems = 6\n",
    "print(get_cost_for_first_order_pert(h1norm, v23norm, v1norm, delta0, delta1, Delta, p, r_scale=r_scale, epsilon_scale=epsilon_scale, n_subsystems=n_subsystems))\n",
    "print(get_cost_for_second_order_pert(h1norm, v23norm, v1norm, delta0, delta1, Delta, p, r_scale=r_scale, epsilon_scale=epsilon_scale, n_subsystems=n_subsystems))"
   ]
  }
 ],
 "metadata": {
  "kernelspec": {
   "display_name": "Python 3.9.5 ('qulacs')",
   "language": "python",
   "name": "python3"
  },
  "language_info": {
   "codemirror_mode": {
    "name": "ipython",
    "version": 3
   },
   "file_extension": ".py",
   "mimetype": "text/x-python",
   "name": "python",
   "nbconvert_exporter": "python",
   "pygments_lexer": "ipython3",
   "version": "3.9.5"
  },
  "orig_nbformat": 4,
  "vscode": {
   "interpreter": {
    "hash": "9a254056ba7bb2d506825dd7a222ffa8b49c259e89497b09ec821585fc31e38d"
   }
  }
 },
 "nbformat": 4,
 "nbformat_minor": 2
}
