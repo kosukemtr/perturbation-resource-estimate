{
 "cells": [
  {
   "attachments": {},
   "cell_type": "markdown",
   "metadata": {},
   "source": [
    "# Hexacene cost estimate"
   ]
  },
  {
   "cell_type": "code",
   "execution_count": 1,
   "metadata": {},
   "outputs": [
    {
     "name": "stderr",
     "output_type": "stream",
     "text": [
      "/home/mitarai/anaconda/envs/qulacs/lib/python3.9/site-packages/pyscf/lib/misc.py:46: H5pyDeprecationWarning: Using default_file_mode other than 'r' is deprecated. Pass the mode to h5py.File() instead.\n",
      "  h5py.get_config().default_file_mode = 'a'\n"
     ]
    }
   ],
   "source": [
    "import numpy as np\n",
    "import pyscf\n",
    "from pyscf import gto\n",
    "from IPython.display import clear_output"
   ]
  },
  {
   "attachments": {},
   "cell_type": "markdown",
   "metadata": {},
   "source": [
    "Get $\\pi$-orbitals using PiOS and calculate Hamiltonian"
   ]
  },
  {
   "cell_type": "code",
   "execution_count": 2,
   "metadata": {},
   "outputs": [],
   "source": [
    "from pyscf.mcscf.PiOS import MakePiOS\n",
    "basis = 'sto3g'\n",
    "mol = gto.M(atom=\"hexacene.xyz\",\n",
    "            basis=basis)\n",
    "mf = mol.RHF.run()\n",
    "e_rhf = mf.e_tot\n",
    "nuc_energy = mf.energy_nuc()\n",
    "pyscf.mp.MP2(mf).run()\n",
    "from pi_orbital_hamiltonian import get_PiOS_hamiltonian_integrals\n",
    "active_start, active_end, one_body_integrals, two_body_integrals = \\\n",
    "    get_PiOS_hamiltonian_integrals(mol)\n",
    "clear_output() # PiOS prints a lot of information so we clear it here"
   ]
  },
  {
   "cell_type": "code",
   "execution_count": 3,
   "metadata": {},
   "outputs": [],
   "source": [
    "c_indices = []\n",
    "for i, a in enumerate(mol._atom):\n",
    "    if a[0] == \"C\":\n",
    "        c_indices.append(i+1)\n",
    "ncore, nactive, nvirtual, nElec, COrbNew = MakePiOS(mol, mf, c_indices)\n",
    "clear_output() # PiOS prints a lot of information so we clear it here"
   ]
  },
  {
   "attachments": {},
   "cell_type": "markdown",
   "metadata": {},
   "source": [
    "Make an active space Hamiltonian by openfermion"
   ]
  },
  {
   "cell_type": "code",
   "execution_count": 4,
   "metadata": {},
   "outputs": [],
   "source": [
    "from openfermion.ops.representations import get_active_space_integrals\n",
    "from local_hamiltonian import integrals_to_InteractionOp\n",
    "from openfermion.transforms import jordan_wigner\n",
    "# compute active space hamiltonian\n",
    "e_core, one_body_integrals_new, two_body_integrals_new =\\\n",
    "        get_active_space_integrals(\n",
    "        one_body_integrals, np.asarray(two_body_integrals.transpose(0, 2, 3, 1), order='C'),\n",
    "        occupied_indices=list(range(0, active_start)),\n",
    "        active_indices=list(range(active_start, active_end))\n",
    "    )\n",
    "active_space_hamiltonian = integrals_to_InteractionOp(e_core, one_body_integrals_new, two_body_integrals_new)\n",
    "active_space_hamiltonian = jordan_wigner(active_space_hamiltonian)"
   ]
  },
  {
   "attachments": {},
   "cell_type": "markdown",
   "metadata": {},
   "source": [
    "Make the pauli coefficient vector"
   ]
  },
  {
   "cell_type": "code",
   "execution_count": 5,
   "metadata": {},
   "outputs": [],
   "source": [
    "def coef2array(h):\n",
    "    _array = np.array([h.terms[key] for key in h.terms])\n",
    "    return _array[np.where(np.abs(_array)>1e-11)]\n",
    "coef_vec_active_only = coef2array(active_space_hamiltonian)"
   ]
  },
  {
   "attachments": {},
   "cell_type": "markdown",
   "metadata": {},
   "source": [
    "The total Hamiltonian $H_{\\mathrm{total}}$ is partitioned into $H$ and $V$ in such a way that, if $\\sigma_\\ell$ contained in $H_{\\mathrm{total}}$ has any Pauli-$X$ or $Y$ operators acting on inactive orbitals, $\\sigma_\\ell$ is grouped into $V$, and otherwise, $\\sigma_\\ell$ is taken into $H$. Here, we extract Pauli coefficients of $H$."
   ]
  },
  {
   "cell_type": "code",
   "execution_count": 6,
   "metadata": {},
   "outputs": [],
   "source": [
    "from utils import get_active_space_total_hamiltonian_coefs_from_integrals\n",
    "from utils import get_inactive_space_total_hamiltonian_coefs_from_integrals\n",
    "from utils import get_hamiltonian_coefs_from_integrals\n",
    "result = get_active_space_total_hamiltonian_coefs_from_integrals(\n",
    "    one_body_integrals, two_body_integrals, active_start, active_end\n",
    "    )\n",
    "coef_vec = np.array([])\n",
    "for i, coef in enumerate(result):\n",
    "    if i == 0 or i == len(result)-1:\n",
    "        coef_vec = np.append(coef_vec, coef)\n",
    "    else:\n",
    "        coef_vec = np.append(coef_vec, (coef, coef))\n",
    "\n",
    "result = get_inactive_space_total_hamiltonian_coefs_from_integrals(\n",
    "    one_body_integrals, two_body_integrals, active_start, active_end\n",
    "    )\n",
    "coef_vec_inactive = np.array([])\n",
    "for i, coef in enumerate(result):\n",
    "    if i == 0 or i == len(result)-1:\n",
    "        coef_vec_inactive = np.append(coef_vec_inactive, coef)\n",
    "    else:\n",
    "        coef_vec_inactive = np.append(coef_vec_inactive, (coef, coef))"
   ]
  },
  {
   "cell_type": "code",
   "execution_count": 7,
   "metadata": {},
   "outputs": [],
   "source": [
    "all_coef_vec = get_hamiltonian_coefs_from_integrals(one_body_integrals, two_body_integrals)"
   ]
  },
  {
   "attachments": {},
   "cell_type": "markdown",
   "metadata": {},
   "source": [
    "Get norms of vectors"
   ]
  },
  {
   "cell_type": "code",
   "execution_count": 8,
   "metadata": {},
   "outputs": [
    {
     "name": "stdout",
     "output_type": "stream",
     "text": [
      "3404.8835568534437\n",
      "311.1663299218101\n",
      "22685.026994163727\n",
      "149167641.59335476\n",
      "385.67549910467017\n"
     ]
    }
   ],
   "source": [
    "h1norm = np.sum(np.abs(coef_vec[1:])) + abs(coef_vec[0]+nuc_energy-e_rhf)\n",
    "h1norm_active_space_only = np.sum(np.abs(coef_vec_active_only)[1:])\n",
    "v1norm = np.sum(np.abs(coef_vec_inactive[1:]))\n",
    "v23norm = np.sum(np.abs(coef_vec_inactive[1:])**(2/3))**(3/2)\n",
    "print(h1norm)\n",
    "print(h1norm_active_space_only)\n",
    "print(v1norm)\n",
    "print(v23norm)\n",
    "lvlh = len(coef_vec_inactive[np.where(np.abs(coef_vec_inactive) > 1e-8)])/len(coef_vec[np.where(np.abs(coef_vec) > 1e-8)])\n",
    "print(lvlh)"
   ]
  },
  {
   "attachments": {},
   "cell_type": "markdown",
   "metadata": {},
   "source": [
    "# Generate values in the paper"
   ]
  },
  {
   "cell_type": "code",
   "execution_count": 9,
   "metadata": {},
   "outputs": [
    {
     "name": "stdout",
     "output_type": "stream",
     "text": [
      "epsilon:  1.0100441353089018e-09\n",
      "n_filter:  (23710446.086245816+0j)\n",
      "kappa:  9.6905076044632e-06\n",
      "M1:  2267901542.6787386\n",
      "r:  6.612291007570374e-10\n",
      "x_th: 1.4537942098009499e-09\n",
      "(2.8060795828992497e+18+0j)\n",
      "r:  9.618926321135126e-16\n",
      "epsilon_filter:  1.469315265693494e-15\n",
      "epsilon_ptb:  1.984928731237441e-10\n",
      "kappa:  9.6905076044632e-06\n",
      "w:  9.6905076044632e-06\n",
      "w0:  1.4537942098009499e-09\n",
      "M2:  6.835318721794499e+22\n",
      "n_filter:  (38654744.20789895+0j)\n",
      "n_ptb:  (175552437.75850233+0j)\n",
      "(2.347700095251335e+32+0j)\n"
     ]
    }
   ],
   "source": [
    "from cost_estimate import get_cost_for_first_order_pert, get_cost_for_second_order_pert\n",
    "Delta = 0.033\n",
    "# MP2 of pentacene using RHF as reference yields energy correction of about 1 Hartree. We therefore have to set delta0 smaller than chem acc.\n",
    "delta0 = 0.3e-3*Delta/2. \n",
    "delta1 = 0.3e-3\n",
    "delta2 = 0.3e-3\n",
    "r_scale = 1\n",
    "epsilon_scale = 1\n",
    "n_subsystems = 1\n",
    "p = 0.7 # this is just an expectation.\n",
    "print(get_cost_for_first_order_pert(h1norm, v23norm, v1norm, delta0, delta1, Delta, p, r_scale=r_scale, epsilon_scale=epsilon_scale, n_subsystems=n_subsystems))\n",
    "print(get_cost_for_second_order_pert(h1norm, v23norm, v1norm, delta0, delta1, Delta, p, r_scale=r_scale, epsilon_scale=epsilon_scale, n_subsystems=n_subsystems))"
   ]
  }
 ],
 "metadata": {
  "kernelspec": {
   "display_name": "Python 3",
   "language": "python",
   "name": "python3"
  },
  "language_info": {
   "codemirror_mode": {
    "name": "ipython",
    "version": 3
   },
   "file_extension": ".py",
   "mimetype": "text/x-python",
   "name": "python",
   "nbconvert_exporter": "python",
   "pygments_lexer": "ipython3",
   "version": "3.9.5"
  },
  "vscode": {
   "interpreter": {
    "hash": "9a254056ba7bb2d506825dd7a222ffa8b49c259e89497b09ec821585fc31e38d"
   }
  }
 },
 "nbformat": 4,
 "nbformat_minor": 4
}
