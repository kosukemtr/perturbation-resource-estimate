{
 "cells": [
  {
   "attachments": {},
   "cell_type": "markdown",
   "metadata": {},
   "source": [
    "# $(\\mathrm{H}_2\\mathrm{O})_3$ cost estimate"
   ]
  },
  {
   "cell_type": "code",
   "execution_count": 1,
   "metadata": {},
   "outputs": [
    {
     "name": "stderr",
     "output_type": "stream",
     "text": [
      "/home/mitarai/anaconda/envs/qulacs/lib/python3.9/site-packages/pyscf/lib/misc.py:46: H5pyDeprecationWarning: Using default_file_mode other than 'r' is deprecated. Pass the mode to h5py.File() instead.\n",
      "  h5py.get_config().default_file_mode = 'a'\n"
     ]
    }
   ],
   "source": [
    "import numpy as np\n",
    "import openfermion\n",
    "import pyscf\n",
    "from pyscf import gto"
   ]
  },
  {
   "cell_type": "code",
   "execution_count": 2,
   "metadata": {},
   "outputs": [],
   "source": [
    "xyz_file = \"TIP4P-3.xyz\""
   ]
  },
  {
   "attachments": {},
   "cell_type": "markdown",
   "metadata": {},
   "source": [
    "Get energy gap of a single molecule"
   ]
  },
  {
   "cell_type": "code",
   "execution_count": 3,
   "metadata": {},
   "outputs": [
    {
     "name": "stdout",
     "output_type": "stream",
     "text": [
      "converged SCF energy = -74.9629282604051\n"
     ]
    }
   ],
   "source": [
    "atom = [('O', [-0.3511375701099324, -2.220327851906733, 1.4480207843187745]), ('H', [-0.24292674995680064, -1.697798925312798, 3.1763661875721043]), ('H', [-0.11012983703262759, -0.699680546250837, 0.4985624750191387]),]\n",
    "basis = 'sto3g'\n",
    "mol = gto.M(atom=atom,\n",
    "            basis=basis,\n",
    "            unit=\"Bohr\")\n",
    "rhf = mol.RHF.run()\n",
    "cisolver = pyscf.fci.FCI(rhf)\n",
    "cisolver.nroots = 5\n",
    "e0, e1, e2, e3, e4 = cisolver.kernel()[0]\n",
    "Delta = e1-e0\n",
    "p = cisolver.ci[0][0,0]**2"
   ]
  },
  {
   "attachments": {},
   "cell_type": "markdown",
   "metadata": {},
   "source": [
    "Generate Hamiltonian"
   ]
  },
  {
   "cell_type": "code",
   "execution_count": 4,
   "metadata": {},
   "outputs": [
    {
     "name": "stdout",
     "output_type": "stream",
     "text": [
      "converged SCF energy = -224.911145040044\n",
      "converged SCF energy = -224.911145040045\n",
      "converged SCF energy = -224.911145040045\n"
     ]
    }
   ],
   "source": [
    "from local_hamiltonian import get_localized_hamiltonian, get_localized_integrals\n",
    "basis = 'sto3g'\n",
    "method = 'lowdin'\n",
    "mol = gto.M(atom=\"TIP4P-3.xyz\",\n",
    "            basis=basis)\n",
    "rhf = mol.RHF.run()\n",
    "e_rhf = rhf.e_tot\n",
    "of_hamiltonian = get_localized_hamiltonian(mol, method)\n",
    "constant, one_body_int, two_body_int = get_localized_integrals(mol, method)"
   ]
  },
  {
   "attachments": {},
   "cell_type": "markdown",
   "metadata": {},
   "source": [
    "Split the Hamiltonian"
   ]
  },
  {
   "cell_type": "code",
   "execution_count": 5,
   "metadata": {},
   "outputs": [],
   "source": [
    "groups = [list(range(14*i, 14*i+14)) for i in range(3)]\n",
    "original_qubit_hamiltonian = openfermion.transforms.jordan_wigner(of_hamiltonian)\n",
    "constant_in_original_qubit_hamiltonian = original_qubit_hamiltonian.terms[()]\n",
    "original_qubit_hamiltonian -= constant_in_original_qubit_hamiltonian\n",
    "# Note that original_qubit_hamiltonian should not have constant hereafter. "
   ]
  },
  {
   "cell_type": "code",
   "execution_count": 6,
   "metadata": {},
   "outputs": [],
   "source": [
    "from utils import local_group_qubit_operator\n",
    "hamiltonian_list = []\n",
    "for i in range(3):\n",
    "    hamiltonian_list.append(local_group_qubit_operator(original_qubit_hamiltonian, groups[i]))\n",
    "for i in range(3):\n",
    "    hamiltonian_interaction = original_qubit_hamiltonian - hamiltonian_list[i]"
   ]
  },
  {
   "attachments": {},
   "cell_type": "markdown",
   "metadata": {},
   "source": [
    "Get the pauli coefficients"
   ]
  },
  {
   "cell_type": "code",
   "execution_count": 7,
   "metadata": {},
   "outputs": [],
   "source": [
    "def coef2array(h):\n",
    "    _array = np.array([h.terms[key] for key in h.terms])\n",
    "    return _array[np.where(np.abs(_array)>1e-11)]\n",
    "original_coef = coef2array(original_qubit_hamiltonian)\n",
    "grouped_coef_list = []\n",
    "for i in range(3):\n",
    "    grouped_coef_list.append(coef2array(hamiltonian_list[i]))\n",
    "interaction_coef = coef2array(hamiltonian_interaction)"
   ]
  },
  {
   "attachments": {},
   "cell_type": "markdown",
   "metadata": {},
   "source": [
    "Calculate norms"
   ]
  },
  {
   "cell_type": "code",
   "execution_count": 8,
   "metadata": {},
   "outputs": [
    {
     "name": "stdout",
     "output_type": "stream",
     "text": [
      "323.1480500830674\n",
      "197.99773994397404\n",
      "10734.14976990793\n",
      "27.620822241940253\n"
     ]
    }
   ],
   "source": [
    "h1norm = abs(e_rhf-constant_in_original_qubit_hamiltonian)\n",
    "for i in range(3):\n",
    "    h1norm += np.sum(np.abs(grouped_coef_list[i]))\n",
    "v1norm = np.sum(np.abs(interaction_coef))\n",
    "v23norm = np.sum(np.abs(interaction_coef)**(2/3))**(3/2)\n",
    "lvlh = len(interaction_coef)/(sum([len(grouped_coef_list[i]) for i in range(3)]))\n",
    "print(h1norm)\n",
    "print(v1norm)\n",
    "print(v23norm)\n",
    "print(lvlh)"
   ]
  },
  {
   "cell_type": "markdown",
   "metadata": {},
   "source": [
    "# Generate values in the paper"
   ]
  },
  {
   "cell_type": "code",
   "execution_count": 9,
   "metadata": {},
   "outputs": [
    {
     "name": "stdout",
     "output_type": "stream",
     "text": [
      "epsilon:  1.534170028134632e-07\n",
      "n_filter:  (142815.0282102293+0j)\n",
      "kappa:  0.0012321826788653186\n",
      "M1:  163198.89865177913\n",
      "r:  2.5252813498855152e-08\n",
      "x_th: 9.283670439072213e-07\n",
      "(2577625933006.125+0j)\n",
      "r:  5.08221771959738e-11\n",
      "epsilon_filter:  3.087571253086123e-10\n",
      "epsilon_ptb:  2.4728759359300236e-07\n",
      "kappa:  0.0012321826788653186\n",
      "w:  0.0012321826788653186\n",
      "w0:  9.283670439072213e-07\n",
      "M2:  29330331795682.418\n",
      "n_filter:  (196931.68171834922+0j)\n",
      "n_ptb:  (941380.9948579331+0j)\n",
      "(8.844606209167905e+20+0j)\n"
     ]
    }
   ],
   "source": [
    "from cost_estimate import get_cost_for_first_order_pert, get_cost_for_second_order_pert\n",
    "delta0 = 0.3e-3\n",
    "delta1 = 0.3e-3\n",
    "delta2 = 0.3e-3\n",
    "r_scale = 1/3\n",
    "epsilon_scale = 1/3\n",
    "n_subsystems = 3\n",
    "print(get_cost_for_first_order_pert(h1norm, v23norm, v1norm, delta0, delta1, Delta, p, r_scale=r_scale, epsilon_scale=epsilon_scale, n_subsystems=n_subsystems))\n",
    "print(get_cost_for_second_order_pert(h1norm, v23norm, v1norm, delta0, delta1, Delta, p, r_scale=r_scale, epsilon_scale=epsilon_scale, n_subsystems=n_subsystems))"
   ]
  }
 ],
 "metadata": {
  "kernelspec": {
   "display_name": "Python 3.9.5 ('qulacs')",
   "language": "python",
   "name": "python3"
  },
  "language_info": {
   "codemirror_mode": {
    "name": "ipython",
    "version": 3
   },
   "file_extension": ".py",
   "mimetype": "text/x-python",
   "name": "python",
   "nbconvert_exporter": "python",
   "pygments_lexer": "ipython3",
   "version": "3.9.5"
  },
  "orig_nbformat": 4,
  "vscode": {
   "interpreter": {
    "hash": "9a254056ba7bb2d506825dd7a222ffa8b49c259e89497b09ec821585fc31e38d"
   }
  }
 },
 "nbformat": 4,
 "nbformat_minor": 2
}
