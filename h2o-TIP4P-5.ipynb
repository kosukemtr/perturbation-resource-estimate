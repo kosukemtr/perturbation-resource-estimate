{
 "cells": [
  {
   "attachments": {},
   "cell_type": "markdown",
   "metadata": {},
   "source": [
    "# $(\\mathrm{H}_2\\mathrm{O})_5$ cost estimate"
   ]
  },
  {
   "cell_type": "code",
   "execution_count": 2,
   "metadata": {},
   "outputs": [],
   "source": [
    "import numpy as np\n",
    "import openfermion\n",
    "import pyscf\n",
    "from pyscf import gto"
   ]
  },
  {
   "cell_type": "code",
   "execution_count": 3,
   "metadata": {},
   "outputs": [],
   "source": [
    "xyz_file = \"TIP4P-5.xyz\""
   ]
  },
  {
   "cell_type": "markdown",
   "metadata": {},
   "source": [
    "Get energy gap of a single molecule"
   ]
  },
  {
   "cell_type": "code",
   "execution_count": 4,
   "metadata": {},
   "outputs": [
    {
     "name": "stdout",
     "output_type": "stream",
     "text": [
      "converged SCF energy = -74.9629282604051\n"
     ]
    }
   ],
   "source": [
    "\n",
    "atom = [('O', [-0.3511375701099324, -2.220327851906733, 1.4480207843187745]), ('H', [-0.24292674995680064, -1.697798925312798, 3.1763661875721043]), ('H', [-0.11012983703262759, -0.699680546250837, 0.4985624750191387]),]\n",
    "basis = 'sto3g'\n",
    "mol = gto.M(atom=atom,\n",
    "            basis=basis,\n",
    "            unit=\"Bohr\")\n",
    "rhf = mol.RHF.run()\n",
    "cisolver = pyscf.fci.FCI(rhf)\n",
    "cisolver.nroots = 5\n",
    "e0, e1, e2, e3, e4 = cisolver.kernel()[0]\n",
    "Delta = e1-e0\n",
    "p = cisolver.ci[0][0,0]**2"
   ]
  },
  {
   "attachments": {},
   "cell_type": "markdown",
   "metadata": {},
   "source": [
    "Generate Hamiltonian"
   ]
  },
  {
   "cell_type": "code",
   "execution_count": 5,
   "metadata": {},
   "outputs": [
    {
     "name": "stdout",
     "output_type": "stream",
     "text": [
      "converged SCF energy = -374.882033587153\n",
      "converged SCF energy = -374.882033587154\n",
      "converged SCF energy = -374.882033587153\n"
     ]
    }
   ],
   "source": [
    "from local_hamiltonian import get_localized_hamiltonian, get_localized_integrals\n",
    "basis = 'sto3g'\n",
    "method = 'lowdin'\n",
    "mol = gto.M(atom=\"TIP4P-5.xyz\",\n",
    "            basis=basis)\n",
    "rhf = mol.RHF.run()\n",
    "e_rhf = rhf.e_tot\n",
    "of_hamiltonian = get_localized_hamiltonian(mol, method)\n",
    "constant, one_body_int, two_body_int = get_localized_integrals(mol, method)"
   ]
  },
  {
   "attachments": {},
   "cell_type": "markdown",
   "metadata": {},
   "source": [
    "Split the Hamiltonian"
   ]
  },
  {
   "cell_type": "code",
   "execution_count": 6,
   "metadata": {},
   "outputs": [],
   "source": [
    "groups = [list(range(14*i, 14*i+14)) for i in range(5)]\n",
    "original_qubit_hamiltonian = openfermion.transforms.jordan_wigner(of_hamiltonian)\n",
    "constant_in_original_qubit_hamiltonian = original_qubit_hamiltonian.terms[()]\n",
    "original_qubit_hamiltonian -= constant_in_original_qubit_hamiltonian\n",
    "# Note that original_qubit_hamiltonian should not have constant hereafter. "
   ]
  },
  {
   "cell_type": "code",
   "execution_count": 7,
   "metadata": {},
   "outputs": [],
   "source": [
    "from utils import local_group_qubit_operator, get_coulomb_like_interaction_group\n",
    "hamiltonian_list = []\n",
    "for i in range(5):\n",
    "    hamiltonian_list.append(local_group_qubit_operator(original_qubit_hamiltonian, groups[i]))\n",
    "for i in range(5):\n",
    "    hamiltonian_interaction = original_qubit_hamiltonian - hamiltonian_list[i]"
   ]
  },
  {
   "attachments": {},
   "cell_type": "markdown",
   "metadata": {},
   "source": [
    "Get the pauli coefficients"
   ]
  },
  {
   "cell_type": "code",
   "execution_count": 8,
   "metadata": {},
   "outputs": [],
   "source": [
    "def coef2array(h):\n",
    "    _array = np.array([h.terms[key] for key in h.terms])\n",
    "    return _array[np.where(np.abs(_array)>1e-11)]\n",
    "original_coef = coef2array(original_qubit_hamiltonian)\n",
    "grouped_coef_list = []\n",
    "for i in range(5):\n",
    "    grouped_coef_list.append(coef2array(hamiltonian_list[i]))\n",
    "interaction_coef = coef2array(hamiltonian_interaction)"
   ]
  },
  {
   "attachments": {},
   "cell_type": "markdown",
   "metadata": {},
   "source": [
    "Calculate norms"
   ]
  },
  {
   "cell_type": "code",
   "execution_count": 9,
   "metadata": {},
   "outputs": [
    {
     "name": "stdout",
     "output_type": "stream",
     "text": [
      "569.5472345448393\n",
      "437.855141426915\n",
      "36797.35773543547\n",
      "128.95971606033717\n"
     ]
    }
   ],
   "source": [
    "h1norm = abs(e_rhf-constant_in_original_qubit_hamiltonian)\n",
    "for i in range(5):\n",
    "    h1norm += np.sum(np.abs(grouped_coef_list[i]))\n",
    "v1norm = np.sum(np.abs(interaction_coef))\n",
    "v23norm = np.sum(np.abs(interaction_coef)**(2/3))**(3/2)\n",
    "lvlh = len(interaction_coef)/(sum([len(grouped_coef_list[i]) for i in range(5)]))\n",
    "print(h1norm)\n",
    "print(v1norm)\n",
    "print(v23norm)\n",
    "print(lvlh)"
   ]
  },
  {
   "attachments": {},
   "cell_type": "markdown",
   "metadata": {},
   "source": [
    "# Generate values in the paper"
   ]
  },
  {
   "cell_type": "code",
   "execution_count": 10,
   "metadata": {},
   "outputs": [
    {
     "name": "stdout",
     "output_type": "stream",
     "text": [
      "epsilon:  4.162502656980921e-08\n",
      "n_filter:  (271645.97503196535+0j)\n",
      "kappa:  0.0006991122173381573\n",
      "M1:  559456.3504744264\n",
      "r:  6.8515810736477276e-09\n",
      "x_th: 5.26734187796994e-07\n",
      "(30021299958540.66+0j)\n",
      "r:  6.235396503312556e-12\n",
      "epsilon_filter:  3.788155497742639e-11\n",
      "epsilon_ptb:  8.912306111191753e-08\n",
      "kappa:  0.0006991122173381573\n",
      "w:  0.0006991122173381573\n",
      "w0:  5.26734187796994e-07\n",
      "M2:  344679095525483.2\n",
      "n_filter:  (379296.8069607167+0j)\n",
      "n_ptb:  (1774774.3937947417+0j)\n",
      "(3.5714833262165623e+22+0j)\n"
     ]
    }
   ],
   "source": [
    "from cost_estimate import get_cost_for_first_order_pert, get_cost_for_second_order_pert\n",
    "delta0 = 0.3e-3\n",
    "delta1 = 0.3e-3\n",
    "delta2 = 0.3e-3\n",
    "r_scale = 1/5\n",
    "epsilon_scale = 1/5\n",
    "n_subsystems = 5\n",
    "print(get_cost_for_first_order_pert(h1norm, v23norm, v1norm, delta0, delta1, Delta, p, r_scale=r_scale, epsilon_scale=epsilon_scale, n_subsystems=n_subsystems))\n",
    "print(get_cost_for_second_order_pert(h1norm, v23norm, v1norm, delta0, delta1, Delta, p, r_scale=r_scale, epsilon_scale=epsilon_scale, n_subsystems=n_subsystems))"
   ]
  }
 ],
 "metadata": {
  "kernelspec": {
   "display_name": "Python 3.9.5 ('qulacs')",
   "language": "python",
   "name": "python3"
  },
  "language_info": {
   "codemirror_mode": {
    "name": "ipython",
    "version": 3
   },
   "file_extension": ".py",
   "mimetype": "text/x-python",
   "name": "python",
   "nbconvert_exporter": "python",
   "pygments_lexer": "ipython3",
   "version": "3.9.5"
  },
  "orig_nbformat": 4,
  "vscode": {
   "interpreter": {
    "hash": "9a254056ba7bb2d506825dd7a222ffa8b49c259e89497b09ec821585fc31e38d"
   }
  }
 },
 "nbformat": 4,
 "nbformat_minor": 2
}
